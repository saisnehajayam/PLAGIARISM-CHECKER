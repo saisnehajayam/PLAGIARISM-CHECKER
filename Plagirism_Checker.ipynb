{
  "nbformat": 4,
  "nbformat_minor": 0,
  "metadata": {
    "colab": {
      "provenance": []
    },
    "kernelspec": {
      "name": "python3",
      "display_name": "Python 3"
    },
    "language_info": {
      "name": "python"
    }
  },
  "cells": [
    {
      "cell_type": "code",
      "source": [
        "!pip install nltk\n",
        "!pip install sklearn\n",
        "\n",
        "import nltk\n",
        "from nltk.corpus import stopwords\n",
        "from nltk.tokenize import word_tokenize\n",
        "from sklearn.feature_extraction.text import TfidfVectorizer\n",
        "from sklearn.metrics.pairwise import cosine_similarity\n",
        "\n",
        "nltk.download('stopwords')\n",
        "nltk.download('punkt')\n",
        "\n",
        "def preprocess_text(text):\n",
        "    # Tokenize the text\n",
        "    tokens = word_tokenize(text)\n",
        "\n",
        "    # Remove stopwords and punctuation\n",
        "    stop_words = set(stopwords.words('english'))\n",
        "    tokens = [token.lower() for token in tokens if token.lower() not in stop_words and token.isalpha()]\n",
        "\n",
        "    # Join tokens back into a string\n",
        "    preprocessed_text = ' '.join(tokens)\n",
        "\n",
        "    return preprocessed_text\n",
        "\n",
        "def check_plagiarism(input_text, documents):\n",
        "    # Preprocess the input text\n",
        "    preprocessed_input = preprocess_text(input_text)\n",
        "\n",
        "    # Preprocess the documents\n",
        "    preprocessed_docs = [preprocess_text(doc) for doc in documents]\n",
        "\n",
        "    # Create a TF-IDF vectorizer\n",
        "    vectorizer = TfidfVectorizer().fit_transform([preprocessed_input] + preprocessed_docs)\n",
        "\n",
        "    # Calculate cosine similarities\n",
        "    similarities = cosine_similarity(vectorizer[0:1], vectorizer[1:]).flatten()\n",
        "\n",
        "    # Compare similarity scores to a threshold\n",
        "    threshold = 0.8\n",
        "    results = []\n",
        "    for i, similarity in enumerate(similarities):\n",
        "        if similarity > threshold:\n",
        "            results.append({\n",
        "                'document': documents[i],\n",
        "                'similarity': similarity\n",
        "            })\n",
        "\n",
        "    return results\n",
        "\n",
        "# Example usage\n",
        "input_text = \"This is my original content.\"\n",
        "documents = [\n",
        "    \"This is my original content.\",\n",
        "    \"This is some plagiarized content.\",\n",
        "    \"This is another original document.\"\n",
        "]\n",
        "\n",
        "plagiarism_results = check_plagiarism(input_text, documents)\n",
        "\n",
        "if plagiarism_results:\n",
        "    print(\"Plagiarism detected!\")\n",
        "    for result in plagiarism_results:\n",
        "        print(\"Similarity:\", result['similarity'])\n",
        "        print(\"Plagiarized document:\", result['document'])\n",
        "else:\n",
        "    print(\"No plagiarism detected.\")"
      ],
      "metadata": {
        "colab": {
          "base_uri": "https://localhost:8080/"
        },
        "id": "jULZgj9HvE56",
        "outputId": "1b819434-b8ca-452f-b1a0-d652abdc0c18"
      },
      "execution_count": 9,
      "outputs": [
        {
          "output_type": "stream",
          "name": "stdout",
          "text": [
            "Looking in indexes: https://pypi.org/simple, https://us-python.pkg.dev/colab-wheels/public/simple/\n",
            "Requirement already satisfied: nltk in /usr/local/lib/python3.10/dist-packages (3.8.1)\n",
            "Requirement already satisfied: click in /usr/local/lib/python3.10/dist-packages (from nltk) (8.1.3)\n",
            "Requirement already satisfied: joblib in /usr/local/lib/python3.10/dist-packages (from nltk) (1.2.0)\n",
            "Requirement already satisfied: regex>=2021.8.3 in /usr/local/lib/python3.10/dist-packages (from nltk) (2022.10.31)\n",
            "Requirement already satisfied: tqdm in /usr/local/lib/python3.10/dist-packages (from nltk) (4.65.0)\n",
            "Looking in indexes: https://pypi.org/simple, https://us-python.pkg.dev/colab-wheels/public/simple/\n",
            "Requirement already satisfied: sklearn in /usr/local/lib/python3.10/dist-packages (0.0.post5)\n",
            "Plagiarism detected!\n",
            "Similarity: 1.0000000000000002\n",
            "Plagiarized document: This is my original content.\n"
          ]
        },
        {
          "output_type": "stream",
          "name": "stderr",
          "text": [
            "[nltk_data] Downloading package stopwords to /root/nltk_data...\n",
            "[nltk_data]   Package stopwords is already up-to-date!\n",
            "[nltk_data] Downloading package punkt to /root/nltk_data...\n",
            "[nltk_data]   Package punkt is already up-to-date!\n"
          ]
        }
      ]
    }
  ]
}